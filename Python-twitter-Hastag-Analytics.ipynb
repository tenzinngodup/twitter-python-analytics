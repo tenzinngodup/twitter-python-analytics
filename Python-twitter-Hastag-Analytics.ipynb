{
 "cells": [
  {
   "cell_type": "code",
   "execution_count": 1,
   "metadata": {
    "collapsed": false
   },
   "outputs": [
    {
     "data": {
      "text/plain": [
       "array([1])"
      ]
     },
     "execution_count": 1,
     "metadata": {},
     "output_type": "execute_result"
    }
   ],
   "source": [
    "from sklearn import tree\n",
    "X = [[0, 0], [1, 1]]\n",
    "Y = [0, 1]\n",
    "clf = tree.DecisionTreeClassifier()\n",
    "clf = clf.fit(X, Y)\n",
    "clf.predict([[2., 2.]])"
   ]
  },
  {
   "cell_type": "code",
   "execution_count": 2,
   "metadata": {
    "collapsed": false
   },
   "outputs": [
    {
     "ename": "NameError",
     "evalue": "name 'python' is not defined",
     "output_type": "error",
     "traceback": [
      "\u001b[0;31m---------------------------------------------------------------------------\u001b[0m",
      "\u001b[0;31mNameError\u001b[0m                                 Traceback (most recent call last)",
      "\u001b[0;32m<ipython-input-2-97e634397e65>\u001b[0m in \u001b[0;36m<module>\u001b[0;34m()\u001b[0m\n\u001b[0;32m----> 1\u001b[0;31m \u001b[0mpython\u001b[0m \u001b[0;34m-\u001b[0m\u001b[0mv\u001b[0m\u001b[0;34m\u001b[0m\u001b[0m\n\u001b[0m",
      "\u001b[0;31mNameError\u001b[0m: name 'python' is not defined"
     ]
    }
   ],
   "source": [
    "python -v"
   ]
  },
  {
   "cell_type": "code",
   "execution_count": 3,
   "metadata": {
    "collapsed": true
   },
   "outputs": [],
   "source": [
    "test = 1"
   ]
  },
  {
   "cell_type": "code",
   "execution_count": 4,
   "metadata": {
    "collapsed": false
   },
   "outputs": [
    {
     "name": "stdout",
     "output_type": "stream",
     "text": [
      "Collecting python-twitter\n",
      "  Downloading python_twitter-2.2-py2-none-any.whl (60kB)\n",
      "\u001b[K    100% |████████████████████████████████| 61kB 774kB/s \n",
      "\u001b[?25hRequirement already satisfied (use --upgrade to upgrade): requests in /Users/tngodup/anaconda/lib/python2.7/site-packages (from python-twitter)\n",
      "Collecting requests-oauthlib (from python-twitter)\n",
      "  Downloading requests_oauthlib-0.6.1-py2.py3-none-any.whl\n",
      "Collecting oauthlib>=0.6.2 (from requests-oauthlib->python-twitter)\n",
      "  Downloading oauthlib-1.1.1.tar.gz (108kB)\n",
      "\u001b[K    100% |████████████████████████████████| 110kB 263kB/s \n",
      "\u001b[?25hBuilding wheels for collected packages: oauthlib\n",
      "  Running setup.py bdist_wheel for oauthlib ... \u001b[?25l-\b \b\\\b \bdone\n",
      "\u001b[?25h  Stored in directory: /Users/tngodup/Library/Caches/pip/wheels/c2/d2/a1/0901f53343b65bc0404ed846f7ebde8bc188eb0f56bf030140\n",
      "Successfully built oauthlib\n",
      "Installing collected packages: oauthlib, requests-oauthlib, python-twitter\n",
      "Successfully installed oauthlib-1.1.1 python-twitter-2.2 requests-oauthlib-0.6.1\n",
      "\u001b[33mYou are using pip version 8.0.2, however version 8.1.2 is available.\n",
      "You should consider upgrading via the 'pip install --upgrade pip' command.\u001b[0m\n"
     ]
    }
   ],
   "source": [
    "!pip install python-twitter"
   ]
  },
  {
   "cell_type": "code",
   "execution_count": 8,
   "metadata": {
    "collapsed": true
   },
   "outputs": [],
   "source": [
    "import twitter\n",
    "api = twitter.Api(consumer_key='ET7hxRpOcCPZ0Pgjfi8jwVLNH',\n",
    "                      consumer_secret='HRCGSTMD1USJ9bF41zGndKlS8kAXNvVBF7RQFGDxKfyAQnszau',\n",
    "                      access_token_key='596950338-h9Hhsc5fNpGtJlQFHaaOYHphcGoHUsDIiWGRKxGM',\n",
    "                      access_token_secret='EQTYJrndHGO2nFsP1q3gFs2hNHiRC9PFin3czVr1mDcZe')"
   ]
  },
  {
   "cell_type": "code",
   "execution_count": 9,
   "metadata": {
    "collapsed": false
   },
   "outputs": [
    {
     "name": "stdout",
     "output_type": "stream",
     "text": [
      "{\"created_at\": \"Fri Jun 01 22:45:50 +0000 2012\", \"default_profile\": true, \"description\": \"A future technology enthusiast!\", \"favourites_count\": 20, \"followers_count\": 18, \"friends_count\": 111, \"id\": 596950338, \"lang\": \"en\", \"name\": \"tenzin ngodup\", \"profile_background_color\": \"C0DEED\", \"profile_background_image_url\": \"http://abs.twimg.com/images/themes/theme1/bg.png\", \"profile_background_tile\": false, \"profile_image_url\": \"https://pbs.twimg.com/profile_images/2270178986/foq5zbtu1vxhtblw65x9_normal.jpeg\", \"profile_link_color\": \"0084B4\", \"profile_sidebar_fill_color\": \"DDEEF6\", \"profile_text_color\": \"333333\", \"protected\": false, \"screen_name\": \"tenzin_ngodup\", \"status\": {\"created_at\": \"Thu Jan 21 04:29:06 +0000 2016\", \"favorited\": false, \"id\": 690028321774669824, \"lang\": \"en\", \"retweeted\": false, \"source\": \"<a href=\\\"http://www.apple.com\\\" rel=\\\"nofollow\\\">iOS</a>\", \"text\": \"\\u201cThe Old People\\u2019s Guide to DJ Khaled\\u201d by @ajt another one \\ud83d\\udd11 https://t.co/UdTILEyKJ1\", \"truncated\": false, \"urls\": {\"https://t.co/UdTILEyKJ1\": \"https://medium.com/cuepoint/the-old-people-s-guide-to-dj-khaled-5618a5aa52b1\"}, \"user_mentions\": [{\"id\": 199399558, \"name\": \"Alexander Taub\", \"screen_name\": \"ajt\"}]}, \"statuses_count\": 153, \"url\": \"http://t.co/ZvGqtbrV8M\"}\n"
     ]
    }
   ],
   "source": [
    "print(api.VerifyCredentials())"
   ]
  },
  {
   "cell_type": "code",
   "execution_count": 17,
   "metadata": {
    "collapsed": false
   },
   "outputs": [
    {
     "name": "stdout",
     "output_type": "stream",
     "text": [
      "<twitter.hashtag.Hashtag object at 0x1043018d0>\n"
     ]
    },
    {
     "data": {
      "text/plain": [
       "<module 'twitter.parse_tweet' from '/Users/tngodup/anaconda/lib/python2.7/site-packages/twitter/parse_tweet.pyc'>"
      ]
     },
     "execution_count": 17,
     "metadata": {},
     "output_type": "execute_result"
    }
   ],
   "source": [
    "hashtag_result = twitter.Hashtag(\"tibet\")\n",
    "print hashtag_result\n",
    "twitter.parse_tweet\n"
   ]
  },
  {
   "cell_type": "code",
   "execution_count": 18,
   "metadata": {
    "collapsed": false
   },
   "outputs": [
    {
     "ename": "ImportError",
     "evalue": "No module named tweepy",
     "output_type": "error",
     "traceback": [
      "\u001b[0;31m---------------------------------------------------------------------------\u001b[0m",
      "\u001b[0;31mImportError\u001b[0m                               Traceback (most recent call last)",
      "\u001b[0;32m<ipython-input-18-9d8dd8a91c0e>\u001b[0m in \u001b[0;36m<module>\u001b[0;34m()\u001b[0m\n\u001b[0;32m----> 1\u001b[0;31m \u001b[0;32mimport\u001b[0m \u001b[0mtweepy\u001b[0m\u001b[0;34m\u001b[0m\u001b[0m\n\u001b[0m",
      "\u001b[0;31mImportError\u001b[0m: No module named tweepy"
     ]
    }
   ],
   "source": [
    "import tweepy"
   ]
  },
  {
   "cell_type": "code",
   "execution_count": 24,
   "metadata": {
    "collapsed": false
   },
   "outputs": [],
   "source": []
  },
  {
   "cell_type": "code",
   "execution_count": 25,
   "metadata": {
    "collapsed": false
   },
   "outputs": [],
   "source": [
    "import tweepy\n",
    "from tweepy import OAuthHandler\n",
    " \n",
    "consumer_key='ET7hxRpOcCPZ0Pgjfi8jwVLNH'\n",
    "consumer_secret='HRCGSTMD1USJ9bF41zGndKlS8kAXNvVBF7RQFGDxKfyAQnszau'\n",
    "access_token_key='596950338-h9Hhsc5fNpGtJlQFHaaOYHphcGoHUsDIiWGRKxGM'\n",
    "access_token_secret='EQTYJrndHGO2nFsP1q3gFs2hNHiRC9PFin3czVr1mDcZe'\n",
    " \n",
    "auth = OAuthHandler(consumer_key, consumer_secret)\n",
    "auth.set_access_token(access_token_key, access_token_secret)\n",
    " \n",
    "api = tweepy.API(auth)"
   ]
  },
  {
   "cell_type": "code",
   "execution_count": 26,
   "metadata": {
    "collapsed": false
   },
   "outputs": [
    {
     "name": "stdout",
     "output_type": "stream",
     "text": [
      "RT @oceankidbilly: Folks coming to @pycon: @simple is hosting a happy hour on Monday, May 30. Come visit! https://t.co/Qal1pDvbRF\n",
      "Great news →  The House just passed legislation to fully fund our military and give our troops a raise. #FY17NDAA https://t.co/1Ulvk88txD\n",
      "Google’s new Allo messaging app gets its edge from AI https://t.co/SYKP4IHH46\n",
      "Supergroup alert! Rage Against the Machine + Public Enemy + Cypress Hill = Prophets of Rage? https://t.co/mzKQJrmkD4 https://t.co/oJ4LSLZdJs\n",
      "RT @tariqjmalik: #SciFriTrivia finl scr: @SPACEdotcom #BBGr8s in 3rd place TX 2 @scifri &amp; @TrivWorks 4 an awsme trivia nght @Purch https://…\n",
      "And that's a wrap for #SciFriTrivia. Thanks everyone for coming! Thanks @TrivWorks and @BellHouseNY for having us!\n",
      "A majority of millennials in the US now reject capitalism, poll shows https://t.co/CCGdj2dmfY https://t.co/WRStzEMgts\n",
      "The secret to benching more:https://t.co/knGdqYfhMi\n",
      "Docker Meets Continuous Deployment https://t.co/NJONafEw2a via @robertfirek https://t.co/12r8CJni1i\n",
      "#BernieLostMe me when his supporter base copied GOP attacks against HRC\n"
     ]
    }
   ],
   "source": [
    "for status in tweepy.Cursor(api.home_timeline).items(10):\n",
    "    # Process a single status\n",
    "    print(status.text) "
   ]
  },
  {
   "cell_type": "code",
   "execution_count": 30,
   "metadata": {
    "collapsed": false
   },
   "outputs": [
    {
     "data": {
      "text/plain": [
       "{'track': '#tibet'}"
      ]
     },
     "execution_count": 30,
     "metadata": {},
     "output_type": "execute_result"
    }
   ],
   "source": [
    "twitter_stream.body"
   ]
  },
  {
   "cell_type": "code",
   "execution_count": 35,
   "metadata": {
    "collapsed": false
   },
   "outputs": [
    {
     "name": "stdout",
     "output_type": "stream",
     "text": [
      "{u'contributors': None, u'truncated': False, u'text': u'RT @bsindia: Here are the headlines from Business Standard\\n\\nFed signals interest rate hike firmly on the table for June\\n\\nhttps://t.co/SEK3a\\u2026', u'is_quote_status': False, u'in_reply_to_status_id': None, u'id': 733121267579146240, u'favorite_count': 0, u'source': u'<a href=\"http://twitter.com/download/android\" rel=\"nofollow\">Twitter for Android</a>', u'retweeted': False, u'coordinates': None, u'entities': {u'symbols': [], u'user_mentions': [{u'indices': [3, 11], u'screen_name': u'bsindia', u'id': 43855487, u'name': u'Business Standard', u'id_str': u'43855487'}], u'hashtags': [], u'urls': [{u'url': u'https://t.co/SEK3aXoG81', u'indices': [121, 140], u'expanded_url': u'http://mybs.in/2TEbIsf', u'display_url': u'mybs.in/2TEbIsf'}]}, u'in_reply_to_screen_name': None, u'id_str': u'733121267579146240', u'retweet_count': 2, u'in_reply_to_user_id': None, u'favorited': False, u'retweeted_status': {u'contributors': None, u'truncated': False, u'text': u'Here are the headlines from Business Standard\\n\\nFed signals interest rate hike firmly on the table for June\\n\\nhttps://t.co/SEK3aXoG81', u'is_quote_status': False, u'in_reply_to_status_id': None, u'id': 733117844171280384, u'favorite_count': 0, u'source': u'<a href=\"http://twitter.com\" rel=\"nofollow\">Twitter Web Client</a>', u'retweeted': False, u'coordinates': None, u'entities': {u'symbols': [], u'user_mentions': [], u'hashtags': [], u'urls': [{u'url': u'https://t.co/SEK3aXoG81', u'indices': [108, 131], u'expanded_url': u'http://mybs.in/2TEbIsf', u'display_url': u'mybs.in/2TEbIsf'}]}, u'in_reply_to_screen_name': None, u'id_str': u'733117844171280384', u'retweet_count': 2, u'in_reply_to_user_id': None, u'favorited': False, u'user': {u'follow_request_sent': False, u'has_extended_profile': False, u'profile_use_background_image': True, u'id': 43855487, u'verified': True, u'profile_text_color': u'000000', u'profile_image_url_https': u'https://pbs.twimg.com/profile_images/2881526894/1a54fd9ccb222e586c2ed3127482c405_normal.jpeg', u'profile_sidebar_fill_color': u'FFFFFF', u'is_translator': False, u'geo_enabled': True, u'entities': {u'url': {u'urls': [{u'url': u'http://t.co/T0LTyOJENS', u'indices': [0, 22], u'expanded_url': u'http://www.business-standard.com', u'display_url': u'business-standard.com'}]}, u'description': {u'urls': []}}, u'followers_count': 336569, u'protected': False, u'location': u'India', u'default_profile_image': False, u'id_str': u'43855487', u'lang': u'en', u'utc_offset': 19800, u'statuses_count': 112920, u'description': u\"Breaking news on economy, companies, markets and incisive analysis from India's leading business daily\", u'friends_count': 353, u'profile_link_color': u'AC151A', u'profile_image_url': u'http://pbs.twimg.com/profile_images/2881526894/1a54fd9ccb222e586c2ed3127482c405_normal.jpeg', u'notifications': False, u'profile_background_image_url_https': u'https://pbs.twimg.com/profile_background_images/16584992/bs_twitter_bg.jpg', u'profile_background_color': u'9AE4E8', u'profile_banner_url': u'https://pbs.twimg.com/profile_banners/43855487/1461061658', u'profile_background_image_url': u'http://pbs.twimg.com/profile_background_images/16584992/bs_twitter_bg.jpg', u'name': u'Business Standard', u'is_translation_enabled': False, u'profile_background_tile': False, u'favourites_count': 29, u'screen_name': u'bsindia', u'url': u'http://t.co/T0LTyOJENS', u'created_at': u'Mon Jun 01 08:52:08 +0000 2009', u'contributors_enabled': False, u'time_zone': u'New Delhi', u'profile_sidebar_border_color': u'CECECE', u'default_profile': False, u'following': False, u'listed_count': 1796}, u'geo': None, u'in_reply_to_user_id_str': None, u'possibly_sensitive': False, u'lang': u'en', u'created_at': u'Thu May 19 02:11:29 +0000 2016', u'in_reply_to_status_id_str': None, u'place': None, u'metadata': {u'iso_language_code': u'en', u'result_type': u'recent'}}, u'user': {u'follow_request_sent': False, u'has_extended_profile': False, u'profile_use_background_image': True, u'id': 727187758226280448, u'verified': False, u'profile_text_color': u'333333', u'profile_image_url_https': u'https://pbs.twimg.com/profile_images/730286034051862528/if4prD2C_normal.jpg', u'profile_sidebar_fill_color': u'DDEEF6', u'is_translator': False, u'geo_enabled': False, u'entities': {u'description': {u'urls': []}}, u'followers_count': 19, u'protected': False, u'location': u'', u'default_profile_image': False, u'id_str': u'727187758226280448', u'lang': u'en', u'utc_offset': None, u'statuses_count': 41, u'description': u'', u'friends_count': 109, u'profile_link_color': u'2B7BB9', u'profile_image_url': u'http://pbs.twimg.com/profile_images/730286034051862528/if4prD2C_normal.jpg', u'notifications': False, u'profile_background_image_url_https': None, u'profile_background_color': u'F5F8FA', u'profile_background_image_url': None, u'name': u'Vivek Sharma', u'is_translation_enabled': False, u'profile_background_tile': False, u'favourites_count': 58, u'screen_name': u'hologramtruth', u'url': None, u'created_at': u'Mon May 02 17:27:26 +0000 2016', u'contributors_enabled': False, u'time_zone': None, u'profile_sidebar_border_color': u'C0DEED', u'default_profile': True, u'following': False, u'listed_count': 1}, u'geo': None, u'in_reply_to_user_id_str': None, u'possibly_sensitive': False, u'lang': u'en', u'created_at': u'Thu May 19 02:25:05 +0000 2016', u'in_reply_to_status_id_str': None, u'place': None, u'metadata': {u'iso_language_code': u'en', u'result_type': u'recent'}}\n"
     ]
    }
   ],
   "source": [
    "MAX_TWEETS = 10\n",
    "data = Cursor(api.search, q='interest rate').items(MAX_TWEETS)\n",
    "mozsprint_data = []\n",
    "# You will use this line in production instead of this\n",
    "# current_working_dir = os.path.dirname(os.path.realpath(__file__))\n",
    "current_working_dir = \"./\"\n",
    "log_tweets = current_working_dir  + str(time.time()) + '_interest_rate_tweets.txt'\n",
    "with open(log_tweets, 'w') as outfile:\n",
    "    for tweet in data:\n",
    "        mozsprint_data.append(json.loads(json.dumps(tweet._json)))\n",
    "        outfile.write(json.dumps(tweet._json))\n",
    "        outfile.write(\"\\n\")\n",
    "print mozsprint_data[0]"
   ]
  },
  {
   "cell_type": "code",
   "execution_count": 36,
   "metadata": {
    "collapsed": true
   },
   "outputs": [],
   "source": [
    "# Create the dataframe we will use\n",
    "tweets = pd.DataFrame()\n",
    "# We want to know when a tweet was sent\n",
    "tweets['created_at'] = map(lambda tweet: time.strftime('%Y-%m-%d %H:%M:%S', time.strptime(tweet['created_at'],'%a %b %d %H:%M:%S +0000 %Y')), mozsprint_data)\n",
    "# Who is the tweet owner\n",
    "tweets['user'] = map(lambda tweet: tweet['user']['screen_name'], mozsprint_data)\n",
    "# How many follower this user has\n",
    "tweets['user_followers_count'] = map(lambda tweet: tweet['user']['followers_count'], mozsprint_data)\n",
    "# What is the tweet's content\n",
    "tweets['text'] = map(lambda tweet: tweet['text'].encode('utf-8'), mozsprint_data)\n",
    "# If available what is the language the tweet is written in\n",
    "tweets['lang'] = map(lambda tweet: tweet['lang'], mozsprint_data)\n",
    "# If available, where was the tweet sent from ?\n",
    "tweets['Location'] = map(lambda tweet: tweet['place']['country'] if tweet['place'] != None else None, mozsprint_data)\n",
    "# How many times this tweet was retweeted and favorited\n",
    "tweets['retweet_count'] = map(lambda tweet: tweet['retweet_count'], mozsprint_data)\n",
    "tweets['favorite_count'] = map(lambda tweet: tweet['favorite_count'], mozsprint_data)\n"
   ]
  },
  {
   "cell_type": "code",
   "execution_count": 37,
   "metadata": {
    "collapsed": false
   },
   "outputs": [
    {
     "name": "stdout",
     "output_type": "stream",
     "text": [
      "            created_at             user  user_followers_count  \\\n",
      "0  2016-05-19 02:25:05    hologramtruth                    19   \n",
      "1  2016-05-19 02:24:20  PhilCollinsonNY                  2788   \n",
      "2  2016-05-19 02:19:06         bdorriss                   180   \n",
      "3  2016-05-19 02:18:46  NZStuffBusiness                  8920   \n",
      "4  2016-05-19 02:15:38          MiriRod                  4611   \n",
      "\n",
      "                                                text lang Location  \\\n",
      "0  RT @bsindia: Here are the headlines from Busin...   en     None   \n",
      "1  The Fed keeps Wall Street guessing on interest...   en     None   \n",
      "2  Here are the headlines from Business Standard\\...   en     None   \n",
      "3  An interest rate hike is on the cards for the ...   en     None   \n",
      "4  @ChaimShapiro Visa wants to pay my bills and I...   en     None   \n",
      "\n",
      "   retweet_count  favorite_count  \n",
      "0              2               0  \n",
      "1              0               0  \n",
      "2              0               0  \n",
      "3              0               0  \n",
      "4              0               3  \n"
     ]
    }
   ],
   "source": [
    "print tweets.head()"
   ]
  },
  {
   "cell_type": "code",
   "execution_count": null,
   "metadata": {
    "collapsed": true
   },
   "outputs": [],
   "source": []
  }
 ],
 "metadata": {
  "kernelspec": {
   "display_name": "Python 2",
   "language": "python",
   "name": "python2"
  },
  "language_info": {
   "codemirror_mode": {
    "name": "ipython",
    "version": 2
   },
   "file_extension": ".py",
   "mimetype": "text/x-python",
   "name": "python",
   "nbconvert_exporter": "python",
   "pygments_lexer": "ipython2",
   "version": "2.7.11"
  }
 },
 "nbformat": 4,
 "nbformat_minor": 0
}
